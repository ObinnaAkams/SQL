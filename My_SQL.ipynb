{
 "cells": [
  {
   "cell_type": "markdown",
   "id": "4eccee4d",
   "metadata": {},
   "source": [
    "#### Databases:\n",
    "are systems that allow users to store and organise data. They are useful when dealing with large amounts of a data. PostgreSQL database is used in this course."
   ]
  },
  {
   "cell_type": "markdown",
   "id": "37ad4318",
   "metadata": {},
   "source": [
    "#### SQL:\n",
    "Structured Query Language. It is a programming language used to communicate to a database."
   ]
  },
  {
   "cell_type": "markdown",
   "id": "a5432c81",
   "metadata": {},
   "source": [
    "#### PgAdmin:\n",
    "A graphical user interface for connecting with PostgreSQL.\n",
    "pw: usual\n",
    "port: 5432"
   ]
  },
  {
   "cell_type": "markdown",
   "id": "b4f67b00",
   "metadata": {},
   "source": [
    "#### Psycopg:\n",
    "is a PostgreSQL adapter for the Python programming language. It is a wrapper for the libpq, the official PostgreSQL client library."
   ]
  },
  {
   "cell_type": "markdown",
   "id": "0ae219c5",
   "metadata": {},
   "source": [
    "## USING SQL WITH PYTHON"
   ]
  },
  {
   "cell_type": "code",
   "execution_count": 32,
   "id": "a40aed64",
   "metadata": {},
   "outputs": [],
   "source": [
    "import psycopg2 as pg2"
   ]
  },
  {
   "cell_type": "code",
   "execution_count": 33,
   "id": "537492b7",
   "metadata": {},
   "outputs": [],
   "source": [
    "import getpass"
   ]
  },
  {
   "cell_type": "code",
   "execution_count": 35,
   "id": "4ba49c24",
   "metadata": {},
   "outputs": [
    {
     "name": "stdout",
     "output_type": "stream",
     "text": [
      "Your password please: ········\n"
     ]
    }
   ],
   "source": [
    "try:\n",
    "    \n",
    "    conn = pg2.connect(database='dvdrental', user='postgres', password = getpass.getpass('Your password please: '))\n",
    "\n",
    "except:\n",
    "    print(\"Incorrect password\")\n"
   ]
  },
  {
   "cell_type": "code",
   "execution_count": 36,
   "id": "69c86a1a",
   "metadata": {},
   "outputs": [],
   "source": [
    "cur = conn.cursor()"
   ]
  },
  {
   "cell_type": "code",
   "execution_count": 37,
   "id": "775e99c8",
   "metadata": {},
   "outputs": [],
   "source": [
    "sqlData = cur.execute('SELECT * FROM payment')"
   ]
  },
  {
   "cell_type": "code",
   "execution_count": 38,
   "id": "4b9d3883",
   "metadata": {},
   "outputs": [
    {
     "data": {
      "text/plain": [
       "(17503,\n",
       " 341,\n",
       " 2,\n",
       " 1520,\n",
       " Decimal('7.99'),\n",
       " datetime.datetime(2007, 2, 15, 22, 25, 46, 996577))"
      ]
     },
     "execution_count": 38,
     "metadata": {},
     "output_type": "execute_result"
    }
   ],
   "source": [
    "cur.fetchone()"
   ]
  },
  {
   "cell_type": "markdown",
   "id": "cfb55dec",
   "metadata": {},
   "source": [
    "## Using Seaborn Heat to check missing Data"
   ]
  },
  {
   "cell_type": "code",
   "execution_count": 53,
   "id": "20424fd9",
   "metadata": {},
   "outputs": [],
   "source": [
    "import numpy as np\n",
    "import pandas as pd\n",
    "import matplotlib.pyplot as plt\n",
    "import seaborn as sns\n",
    "\n",
    "%matplotlib inline"
   ]
  },
  {
   "cell_type": "code",
   "execution_count": 64,
   "id": "aff1cd6a",
   "metadata": {},
   "outputs": [],
   "source": [
    "sqlcsv = pd.read_csv('data-1653647169602.csv')"
   ]
  },
  {
   "cell_type": "code",
   "execution_count": 65,
   "id": "2b81b970",
   "metadata": {},
   "outputs": [
    {
     "data": {
      "text/html": [
       "<div>\n",
       "<style scoped>\n",
       "    .dataframe tbody tr th:only-of-type {\n",
       "        vertical-align: middle;\n",
       "    }\n",
       "\n",
       "    .dataframe tbody tr th {\n",
       "        vertical-align: top;\n",
       "    }\n",
       "\n",
       "    .dataframe thead th {\n",
       "        text-align: right;\n",
       "    }\n",
       "</style>\n",
       "<table border=\"1\" class=\"dataframe\">\n",
       "  <thead>\n",
       "    <tr style=\"text-align: right;\">\n",
       "      <th></th>\n",
       "      <th>payment_id</th>\n",
       "      <th>customer_id</th>\n",
       "      <th>staff_id</th>\n",
       "      <th>rental_id</th>\n",
       "      <th>amount</th>\n",
       "      <th>payment_date</th>\n",
       "    </tr>\n",
       "  </thead>\n",
       "  <tbody>\n",
       "    <tr>\n",
       "      <th>0</th>\n",
       "      <td>17503</td>\n",
       "      <td>341</td>\n",
       "      <td>2</td>\n",
       "      <td>1520</td>\n",
       "      <td>7.99</td>\n",
       "      <td>2007-02-15 22:25:46.996577</td>\n",
       "    </tr>\n",
       "    <tr>\n",
       "      <th>1</th>\n",
       "      <td>17504</td>\n",
       "      <td>341</td>\n",
       "      <td>1</td>\n",
       "      <td>1778</td>\n",
       "      <td>1.99</td>\n",
       "      <td>2007-02-16 17:23:14.996577</td>\n",
       "    </tr>\n",
       "    <tr>\n",
       "      <th>2</th>\n",
       "      <td>17505</td>\n",
       "      <td>341</td>\n",
       "      <td>1</td>\n",
       "      <td>1849</td>\n",
       "      <td>7.99</td>\n",
       "      <td>2007-02-16 22:41:45.996577</td>\n",
       "    </tr>\n",
       "    <tr>\n",
       "      <th>3</th>\n",
       "      <td>17506</td>\n",
       "      <td>341</td>\n",
       "      <td>2</td>\n",
       "      <td>2829</td>\n",
       "      <td>2.99</td>\n",
       "      <td>2007-02-19 19:39:56.996577</td>\n",
       "    </tr>\n",
       "    <tr>\n",
       "      <th>4</th>\n",
       "      <td>17507</td>\n",
       "      <td>341</td>\n",
       "      <td>2</td>\n",
       "      <td>3130</td>\n",
       "      <td>7.99</td>\n",
       "      <td>2007-02-20 17:31:48.996577</td>\n",
       "    </tr>\n",
       "    <tr>\n",
       "      <th>...</th>\n",
       "      <td>...</td>\n",
       "      <td>...</td>\n",
       "      <td>...</td>\n",
       "      <td>...</td>\n",
       "      <td>...</td>\n",
       "      <td>...</td>\n",
       "    </tr>\n",
       "    <tr>\n",
       "      <th>14591</th>\n",
       "      <td>32094</td>\n",
       "      <td>245</td>\n",
       "      <td>2</td>\n",
       "      <td>12682</td>\n",
       "      <td>2.99</td>\n",
       "      <td>2007-05-14 13:44:29.996577</td>\n",
       "    </tr>\n",
       "    <tr>\n",
       "      <th>14592</th>\n",
       "      <td>32095</td>\n",
       "      <td>251</td>\n",
       "      <td>1</td>\n",
       "      <td>14107</td>\n",
       "      <td>0.99</td>\n",
       "      <td>2007-05-14 13:44:29.996577</td>\n",
       "    </tr>\n",
       "    <tr>\n",
       "      <th>14593</th>\n",
       "      <td>32096</td>\n",
       "      <td>252</td>\n",
       "      <td>2</td>\n",
       "      <td>13756</td>\n",
       "      <td>4.99</td>\n",
       "      <td>2007-05-14 13:44:29.996577</td>\n",
       "    </tr>\n",
       "    <tr>\n",
       "      <th>14594</th>\n",
       "      <td>32097</td>\n",
       "      <td>263</td>\n",
       "      <td>1</td>\n",
       "      <td>15293</td>\n",
       "      <td>0.99</td>\n",
       "      <td>2007-05-14 13:44:29.996577</td>\n",
       "    </tr>\n",
       "    <tr>\n",
       "      <th>14595</th>\n",
       "      <td>32098</td>\n",
       "      <td>264</td>\n",
       "      <td>2</td>\n",
       "      <td>14243</td>\n",
       "      <td>2.99</td>\n",
       "      <td>2007-05-14 13:44:29.996577</td>\n",
       "    </tr>\n",
       "  </tbody>\n",
       "</table>\n",
       "<p>14596 rows × 6 columns</p>\n",
       "</div>"
      ],
      "text/plain": [
       "       payment_id  customer_id  staff_id  rental_id  amount  \\\n",
       "0           17503          341         2       1520    7.99   \n",
       "1           17504          341         1       1778    1.99   \n",
       "2           17505          341         1       1849    7.99   \n",
       "3           17506          341         2       2829    2.99   \n",
       "4           17507          341         2       3130    7.99   \n",
       "...           ...          ...       ...        ...     ...   \n",
       "14591       32094          245         2      12682    2.99   \n",
       "14592       32095          251         1      14107    0.99   \n",
       "14593       32096          252         2      13756    4.99   \n",
       "14594       32097          263         1      15293    0.99   \n",
       "14595       32098          264         2      14243    2.99   \n",
       "\n",
       "                     payment_date  \n",
       "0      2007-02-15 22:25:46.996577  \n",
       "1      2007-02-16 17:23:14.996577  \n",
       "2      2007-02-16 22:41:45.996577  \n",
       "3      2007-02-19 19:39:56.996577  \n",
       "4      2007-02-20 17:31:48.996577  \n",
       "...                           ...  \n",
       "14591  2007-05-14 13:44:29.996577  \n",
       "14592  2007-05-14 13:44:29.996577  \n",
       "14593  2007-05-14 13:44:29.996577  \n",
       "14594  2007-05-14 13:44:29.996577  \n",
       "14595  2007-05-14 13:44:29.996577  \n",
       "\n",
       "[14596 rows x 6 columns]"
      ]
     },
     "execution_count": 65,
     "metadata": {},
     "output_type": "execute_result"
    }
   ],
   "source": [
    "sqlcsv"
   ]
  },
  {
   "cell_type": "code",
   "execution_count": 67,
   "id": "8ea27a56",
   "metadata": {},
   "outputs": [
    {
     "data": {
      "text/plain": [
       "<AxesSubplot:>"
      ]
     },
     "execution_count": 67,
     "metadata": {},
     "output_type": "execute_result"
    },
    {
     "data": {
      "image/png": "[encoded data removed]",
      "text/plain": [
       "<Figure size 432x288 with 1 Axes>"
      ]
     },
     "metadata": {
      "needs_background": "light"
     },
     "output_type": "display_data"
    }
   ],
   "source": [
    "sns.heatmap(sqlcsv.isnull(), yticklabels=False, cbar=False, cmap='viridis')"
   ]
  },
  {
   "cell_type": "code",
   "execution_count": null,
   "id": "a2391717",
   "metadata": {},
   "outputs": [],
   "source": []
  }
 ],
 "metadata": {
  "kernelspec": {
   "display_name": "Python 3 (ipykernel)",
   "language": "python",
   "name": "python3"
  },
  "language_info": {
   "codemirror_mode": {
    "name": "ipython",
    "version": 3
   },
   "file_extension": ".py",
   "mimetype": "text/x-python",
   "name": "python",
   "nbconvert_exporter": "python",
   "pygments_lexer": "ipython3",
   "version": "3.9.12"
  }
 },
 "nbformat": 4,
 "nbformat_minor": 5
}
